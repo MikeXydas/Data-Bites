{
 "cells": [
  {
   "cell_type": "markdown",
   "metadata": {},
   "source": [
    "# Chicago Crime Dataset Analysis"
   ]
  },
  {
   "cell_type": "markdown",
   "metadata": {},
   "source": [
    "Dataset downloaded from: https://data.cityofchicago.org/Public-Safety/Crimes-2001-to-present/ijzp-q8t2"
   ]
  },
  {
   "cell_type": "code",
   "execution_count": 19,
   "metadata": {},
   "outputs": [
    {
     "name": "stderr",
     "output_type": "stream",
     "text": [
      "/home/mikexydas/pythonEnvs/thesisEnv/lib/python3.6/importlib/_bootstrap.py:219: RuntimeWarning: numpy.ufunc size changed, may indicate binary incompatibility. Expected 192 from C header, got 216 from PyObject\n",
      "  return f(*args, **kwds)\n",
      "/home/mikexydas/pythonEnvs/thesisEnv/lib/python3.6/importlib/_bootstrap.py:219: RuntimeWarning: numpy.ufunc size changed, may indicate binary incompatibility. Expected 192 from C header, got 216 from PyObject\n",
      "  return f(*args, **kwds)\n",
      "/home/mikexydas/pythonEnvs/thesisEnv/lib/python3.6/importlib/_bootstrap.py:219: RuntimeWarning: numpy.ufunc size changed, may indicate binary incompatibility. Expected 192 from C header, got 216 from PyObject\n",
      "  return f(*args, **kwds)\n",
      "/home/mikexydas/pythonEnvs/thesisEnv/lib/python3.6/importlib/_bootstrap.py:219: RuntimeWarning: numpy.ufunc size changed, may indicate binary incompatibility. Expected 192 from C header, got 216 from PyObject\n",
      "  return f(*args, **kwds)\n"
     ]
    }
   ],
   "source": [
    "# Imports\n",
    "\n",
    "import pandas as pd\n",
    "import numpy as np\n",
    "import matplotlib.pyplot as plt\n",
    "\n",
    "from dython.nominal import associations"
   ]
  },
  {
   "cell_type": "markdown",
   "metadata": {},
   "source": [
    "Reading and printing the head of the file.\n",
    "In order to save time I do not read all the columns. Some are redundant (eg FBI code, IUCR) or not actually usable such as having both ID and Case Number."
   ]
  },
  {
   "cell_type": "code",
   "execution_count": 40,
   "metadata": {},
   "outputs": [
    {
     "name": "stdout",
     "output_type": "stream",
     "text": [
      ">>> Started reading...\n",
      ">>> Reading completed\n",
      "\n",
      "                 ID         Beat     District         Ward  Community Area  \\\n",
      "count  2.000000e+03  2000.000000  2000.000000  1969.000000     1968.000000   \n",
      "mean   1.086833e+07  1152.331000    11.258500    23.879126       37.344004   \n",
      "std    1.422698e+06   720.121912     7.187733    14.613573       21.913822   \n",
      "min    1.377897e+06   111.000000     1.000000     1.000000        1.000000   \n",
      "25%    1.093966e+07   524.000000     5.000000     9.000000       23.000000   \n",
      "50%    1.122858e+07  1034.000000    10.000000    24.000000       32.000000   \n",
      "75%    1.125050e+07  1731.000000    17.000000    37.000000       56.000000   \n",
      "max    1.164996e+07  2535.000000    25.000000    50.000000       77.000000   \n",
      "\n",
      "              Year  Latitude  Longitude  \n",
      "count  2000.000000       0.0        0.0  \n",
      "mean   2014.877500       NaN        NaN  \n",
      "std       3.495082       NaN        NaN  \n",
      "min    2001.000000       NaN        NaN  \n",
      "25%    2014.000000       NaN        NaN  \n",
      "50%    2016.000000       NaN        NaN  \n",
      "75%    2017.000000       NaN        NaN  \n",
      "max    2019.000000       NaN        NaN  \n",
      "\n",
      "         ID                Date                 Block  IUCR  \\\n",
      "0  11034701 2001-01-01 11:00:00       016XX E 86TH PL  1153   \n",
      "1  11227287 2017-10-08 03:00:00    092XX S RACINE AVE  0281   \n",
      "2  11227583 2017-03-28 14:00:00       026XX W 79TH ST  0620   \n",
      "3  11227293 2017-09-09 20:17:00  060XX S EBERHART AVE  0810   \n",
      "4  11227634 2017-08-26 10:00:00   001XX W RANDOLPH ST  0281   \n",
      "\n",
      "          Primary Type                          Description  \\\n",
      "0   DECEPTIVE PRACTICE  FINANCIAL IDENTITY THEFT OVER $ 300   \n",
      "1  CRIM SEXUAL ASSAULT                       NON-AGGRAVATED   \n",
      "2             BURGLARY                       UNLAWFUL ENTRY   \n",
      "3                THEFT                            OVER $500   \n",
      "4  CRIM SEXUAL ASSAULT                       NON-AGGRAVATED   \n",
      "\n",
      "  Location Description  Arrest  Domestic  Beat  District  Ward  \\\n",
      "0            RESIDENCE   False     False   412         4   8.0   \n",
      "1            RESIDENCE   False     False  2222        22  21.0   \n",
      "2                OTHER   False     False   835         8  18.0   \n",
      "3            RESIDENCE   False     False   313         3  20.0   \n",
      "4          HOTEL/MOTEL   False     False   122         1  42.0   \n",
      "\n",
      "   Community Area  Year  Latitude  Longitude  \n",
      "0            45.0  2001       NaN        NaN  \n",
      "1            73.0  2017       NaN        NaN  \n",
      "2            70.0  2017       NaN        NaN  \n",
      "3            42.0  2017       NaN        NaN  \n",
      "4            32.0  2017       NaN        NaN  \n"
     ]
    }
   ],
   "source": [
    "columns_to_read = [\"ID\", \"Date\", \"Block\", \"IUCR\", \"Primary Type\", \"Description\", \"Location Description\", \"Arrest\",\n",
    "                  \"Domestic\", \"Beat\", \"District\", \"Ward\", \"Community Area\", \"Year\", \"Latitude\", \"Longitude\"]\n",
    "\n",
    "rows_to_read = 2000 # In total 7000000 lines\n",
    "\n",
    "print(\">>> Started reading...\")\n",
    "df = pd.read_csv(filepath_or_buffer=\"datasets/Crimes_-_2001_to_present.csv\", sep=\",\",\n",
    "                    usecols=columns_to_read, parse_dates=[\"Date\"], nrows = rows_to_read)\n",
    "\n",
    "print(\">>> Reading completed\\n\")\n",
    "print(df.describe()) # Statistic information\n",
    "print(\"\")\n",
    "print(df.head()) # Print first rows"
   ]
  },
  {
   "cell_type": "markdown",
   "metadata": {},
   "source": [
    "## Dealing with missing values"
   ]
  },
  {
   "cell_type": "code",
   "execution_count": 35,
   "metadata": {},
   "outputs": [
    {
     "name": "stdout",
     "output_type": "stream",
     "text": [
      "ID                          0\n",
      "Date                        0\n",
      "Block                       0\n",
      "IUCR                        0\n",
      "Primary Type                0\n",
      "Description                 0\n",
      "Location Description     2412\n",
      "Arrest                      0\n",
      "Domestic                    0\n",
      "Beat                        0\n",
      "District                    0\n",
      "Ward                     9263\n",
      "Community Area           9208\n",
      "Year                        0\n",
      "Latitude                66603\n",
      "Longitude               66603\n",
      "dtype: int64\n"
     ]
    }
   ],
   "source": [
    "print(df.isnull().sum())"
   ]
  },
  {
   "cell_type": "code",
   "execution_count": 42,
   "metadata": {},
   "outputs": [],
   "source": [
    "# A naive approach of filling all the empty string with \"\" and all the other columns with 0\n",
    "\n",
    "df[\"Location Description\"] = df[\"Location Description\"].fillna(\"\")\n",
    "df.fillna(0, inplace=True)"
   ]
  },
  {
   "cell_type": "markdown",
   "metadata": {},
   "source": [
    "## Correlation Analysis\n",
    "\n",
    "The dataset has some unwanted corellations. Some of them were easy to spot (IUCR and FBI code).\n",
    "Now we must deal with more \"hidden\" realtionships.\n",
    "\n",
    "The main difficulty is the variety of features (numerical and categorical).\n",
    "After deciding what type is each column I used this package: https://github.com/shakedzy/dython/blob/master/\n",
    "\n",
    "Column types:\n",
    "* ID: Nominal (should be ignored)\n",
    "* Date: Interval\n",
    "* Block: Nominal\n",
    "* IUCR: Nominal\n",
    "* Primary Type: Nominal\n",
    "* Description: Nominal\n",
    "* Arrest: Nominal\n",
    "* Domestic: Nominal\n",
    "* Beat: Nominal\n",
    "* District: Nominal\n",
    "* Ward: Nominal\n",
    "* Community Area: Nominal\n",
    "* Year: Interval\n",
    "* Latitude: Ratio\n",
    "* Longitude: Ratio"
   ]
  },
  {
   "cell_type": "code",
   "execution_count": 43,
   "metadata": {},
   "outputs": [
    {
     "name": "stdout",
     "output_type": "stream",
     "text": [
      "ID                        int64\n",
      "Date                      int64\n",
      "Block                    object\n",
      "IUCR                     object\n",
      "Primary Type             object\n",
      "Description              object\n",
      "Location Description     object\n",
      "Arrest                   object\n",
      "Domestic                 object\n",
      "Beat                     object\n",
      "District                 object\n",
      "Ward                     object\n",
      "Community Area           object\n",
      "Year                      int64\n",
      "Latitude                float64\n",
      "Longitude               float64\n",
      "dtype: object\n"
     ]
    }
   ],
   "source": [
    "from dython.nominal import theils_u\n",
    "from dython.nominal import correlation_ratio\n",
    "\n",
    "# Cast the True, False to 0, 1\n",
    "df.Arrest = df.Arrest.astype(int)\n",
    "df.Domestic = df.Domestic.astype(int)\n",
    "\n",
    "# Convert the integer, float nominal variables to strings\n",
    "nominal_cols = [\"Arrest\", \"Domestic\", \"Beat\", \"District\", \"Ward\", \"Community Area\"]\n",
    "df = df.apply(lambda x: str(x) if x.name in nominal_cols else x)\n",
    "\n",
    "# Convert the Date to timestamp (in seconds)\n",
    "df.Date = df.Date.values.astype(np.int64) // 10 ** 9\n",
    "\n",
    "print(df.dtypes)\n",
    "\n",
    "# def choose_corr(col1_name, col2_name):\n",
    "#     type1 = df\n",
    "\n",
    "correlations = np.zeros((len(df.columns), len(df.columns)))\n",
    "\n",
    "\n",
    "\n",
    "# for col_1_index in range(len(df.columns)):\n",
    "#     for col_2_index in range(len(df.columns)):\n",
    "        \n",
    "        "
   ]
  }
 ],
 "metadata": {
  "kernelspec": {
   "display_name": "Python 3",
   "language": "python",
   "name": "python3"
  },
  "language_info": {
   "codemirror_mode": {
    "name": "ipython",
    "version": 3
   },
   "file_extension": ".py",
   "mimetype": "text/x-python",
   "name": "python",
   "nbconvert_exporter": "python",
   "pygments_lexer": "ipython3",
   "version": "3.6.9"
  }
 },
 "nbformat": 4,
 "nbformat_minor": 4
}
