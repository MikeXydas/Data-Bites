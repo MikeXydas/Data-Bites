{
 "cells": [
  {
   "cell_type": "markdown",
   "metadata": {},
   "source": [
    "# Airline Review Analysis - In Progress\n"
   ]
  },
  {
   "cell_type": "code",
   "execution_count": 75,
   "metadata": {
    "ExecuteTime": {
     "end_time": "2020-04-12T10:16:50.126767Z",
     "start_time": "2020-04-12T10:16:50.120831Z"
    }
   },
   "outputs": [],
   "source": [
    "import pandas as pd\n",
    "import numpy as np\n",
    "import matplotlib.pyplot as plt\n",
    "import seaborn as sns\n",
    "\n",
    "from scipy import stats"
   ]
  },
  {
   "cell_type": "markdown",
   "metadata": {},
   "source": [
    "## Data Gathering and Cleaning\n",
    "\n",
    "Initially, I thought of scrapping the [skytrax](vhttps://www.airlinequality.com/) website, which seemed pretty easy. Before doing that however, a quick search showed me that someone has already done that and the [data uploaded on Kaggle](https://www.kaggle.com/efehandanisman/skytrax-airline-reviews) is fairly recent.  \n",
    "  \n",
    "Actually, the fact that it does not include reviews of the last months may be a good thing. As I was browsing skytrax I noticed many recent negative reviews of cancellations, new no-refund policies and lockdown measures, that were caused by Covid-19. Hopefully, this does not reflect the reality of air traveling and we avoid using it in our analysis. "
   ]
  },
  {
   "cell_type": "code",
   "execution_count": 2,
   "metadata": {
    "ExecuteTime": {
     "end_time": "2020-04-11T10:04:38.127672Z",
     "start_time": "2020-04-11T10:04:27.648897Z"
    }
   },
   "outputs": [],
   "source": [
    "# We drop the aircraft column since it has many NaN values and is not important for our analysis\n",
    "df = pd.read_excel('datasets/capstone_airline_reviews3.xlsx').drop(['aircraft'], axis=1)\n",
    "\n",
    "# Many fields will remain empty, but depending on our use case we will accordingly deal with them\n",
    "df = df.dropna(how='all')"
   ]
  },
  {
   "cell_type": "code",
   "execution_count": 3,
   "metadata": {
    "ExecuteTime": {
     "end_time": "2020-04-11T10:04:41.150925Z",
     "start_time": "2020-04-11T10:04:41.121060Z"
    }
   },
   "outputs": [
    {
     "data": {
      "text/html": [
       "<div>\n",
       "<style scoped>\n",
       "    .dataframe tbody tr th:only-of-type {\n",
       "        vertical-align: middle;\n",
       "    }\n",
       "\n",
       "    .dataframe tbody tr th {\n",
       "        vertical-align: top;\n",
       "    }\n",
       "\n",
       "    .dataframe thead th {\n",
       "        text-align: right;\n",
       "    }\n",
       "</style>\n",
       "<table border=\"1\" class=\"dataframe\">\n",
       "  <thead>\n",
       "    <tr style=\"text-align: right;\">\n",
       "      <th></th>\n",
       "      <th>airline</th>\n",
       "      <th>overall</th>\n",
       "      <th>author</th>\n",
       "      <th>review_date</th>\n",
       "      <th>customer_review</th>\n",
       "      <th>traveller_type</th>\n",
       "      <th>cabin</th>\n",
       "      <th>route</th>\n",
       "      <th>date_flown</th>\n",
       "      <th>seat_comfort</th>\n",
       "      <th>cabin_service</th>\n",
       "      <th>food_bev</th>\n",
       "      <th>entertainment</th>\n",
       "      <th>ground_service</th>\n",
       "      <th>value_for_money</th>\n",
       "      <th>recommended</th>\n",
       "    </tr>\n",
       "  </thead>\n",
       "  <tbody>\n",
       "    <tr>\n",
       "      <th>1</th>\n",
       "      <td>Turkish Airlines</td>\n",
       "      <td>7.0</td>\n",
       "      <td>Christopher Hackley</td>\n",
       "      <td>8th May 2019</td>\n",
       "      <td>âœ… Trip Verified | London to Izmir via Istanb...</td>\n",
       "      <td>Business</td>\n",
       "      <td>Economy Class</td>\n",
       "      <td>London to Izmir via Istanbul</td>\n",
       "      <td>2019-05-01 00:00:00</td>\n",
       "      <td>4.0</td>\n",
       "      <td>5.0</td>\n",
       "      <td>4.0</td>\n",
       "      <td>4.0</td>\n",
       "      <td>2.0</td>\n",
       "      <td>4.0</td>\n",
       "      <td>yes</td>\n",
       "    </tr>\n",
       "    <tr>\n",
       "      <th>3</th>\n",
       "      <td>Turkish Airlines</td>\n",
       "      <td>2.0</td>\n",
       "      <td>Adriana Pisoi</td>\n",
       "      <td>7th May 2019</td>\n",
       "      <td>âœ… Trip Verified | Istanbul to Bucharest. We ...</td>\n",
       "      <td>Family Leisure</td>\n",
       "      <td>Economy Class</td>\n",
       "      <td>Istanbul to Bucharest</td>\n",
       "      <td>2019-05-01 00:00:00</td>\n",
       "      <td>4.0</td>\n",
       "      <td>1.0</td>\n",
       "      <td>1.0</td>\n",
       "      <td>1.0</td>\n",
       "      <td>1.0</td>\n",
       "      <td>1.0</td>\n",
       "      <td>no</td>\n",
       "    </tr>\n",
       "    <tr>\n",
       "      <th>5</th>\n",
       "      <td>Turkish Airlines</td>\n",
       "      <td>3.0</td>\n",
       "      <td>M Galerko</td>\n",
       "      <td>7th May 2019</td>\n",
       "      <td>âœ… Trip Verified | Rome to Prishtina via Ista...</td>\n",
       "      <td>Business</td>\n",
       "      <td>Economy Class</td>\n",
       "      <td>Rome to Prishtina via Istanbul</td>\n",
       "      <td>2019-05-01 00:00:00</td>\n",
       "      <td>1.0</td>\n",
       "      <td>4.0</td>\n",
       "      <td>1.0</td>\n",
       "      <td>3.0</td>\n",
       "      <td>1.0</td>\n",
       "      <td>2.0</td>\n",
       "      <td>no</td>\n",
       "    </tr>\n",
       "    <tr>\n",
       "      <th>7</th>\n",
       "      <td>Turkish Airlines</td>\n",
       "      <td>10.0</td>\n",
       "      <td>Zeshan Shah</td>\n",
       "      <td>6th May 2019</td>\n",
       "      <td>âœ… Trip Verified | Flew on Turkish Airlines I...</td>\n",
       "      <td>Solo Leisure</td>\n",
       "      <td>Economy Class</td>\n",
       "      <td>Washington Dulles to Karachi</td>\n",
       "      <td>April 2019</td>\n",
       "      <td>4.0</td>\n",
       "      <td>5.0</td>\n",
       "      <td>5.0</td>\n",
       "      <td>5.0</td>\n",
       "      <td>5.0</td>\n",
       "      <td>5.0</td>\n",
       "      <td>yes</td>\n",
       "    </tr>\n",
       "    <tr>\n",
       "      <th>9</th>\n",
       "      <td>Turkish Airlines</td>\n",
       "      <td>1.0</td>\n",
       "      <td>Pooja Jain</td>\n",
       "      <td>6th May 2019</td>\n",
       "      <td>âœ… Trip Verified | Mumbai to Dublin via Istan...</td>\n",
       "      <td>Solo Leisure</td>\n",
       "      <td>Economy Class</td>\n",
       "      <td>Mumbai to Dublin via Istanbul</td>\n",
       "      <td>2019-05-01 00:00:00</td>\n",
       "      <td>1.0</td>\n",
       "      <td>1.0</td>\n",
       "      <td>1.0</td>\n",
       "      <td>1.0</td>\n",
       "      <td>1.0</td>\n",
       "      <td>1.0</td>\n",
       "      <td>no</td>\n",
       "    </tr>\n",
       "    <tr>\n",
       "      <th>...</th>\n",
       "      <td>...</td>\n",
       "      <td>...</td>\n",
       "      <td>...</td>\n",
       "      <td>...</td>\n",
       "      <td>...</td>\n",
       "      <td>...</td>\n",
       "      <td>...</td>\n",
       "      <td>...</td>\n",
       "      <td>...</td>\n",
       "      <td>...</td>\n",
       "      <td>...</td>\n",
       "      <td>...</td>\n",
       "      <td>...</td>\n",
       "      <td>...</td>\n",
       "      <td>...</td>\n",
       "      <td>...</td>\n",
       "    </tr>\n",
       "    <tr>\n",
       "      <th>131886</th>\n",
       "      <td>Ukraine International</td>\n",
       "      <td>NaN</td>\n",
       "      <td>Yevheniy Kahanovych</td>\n",
       "      <td>21st January 2007</td>\n",
       "      <td>Two domestic flights between Kiev and Lviv las...</td>\n",
       "      <td>NaN</td>\n",
       "      <td>NaN</td>\n",
       "      <td>NaN</td>\n",
       "      <td>NaN</td>\n",
       "      <td>NaN</td>\n",
       "      <td>NaN</td>\n",
       "      <td>NaN</td>\n",
       "      <td>NaN</td>\n",
       "      <td>NaN</td>\n",
       "      <td>NaN</td>\n",
       "      <td>no</td>\n",
       "    </tr>\n",
       "    <tr>\n",
       "      <th>131888</th>\n",
       "      <td>Ukraine International</td>\n",
       "      <td>NaN</td>\n",
       "      <td>Helen Lee</td>\n",
       "      <td>15th December 2006</td>\n",
       "      <td>I had a good flight from London to Kiev with U...</td>\n",
       "      <td>NaN</td>\n",
       "      <td>NaN</td>\n",
       "      <td>NaN</td>\n",
       "      <td>NaN</td>\n",
       "      <td>NaN</td>\n",
       "      <td>NaN</td>\n",
       "      <td>NaN</td>\n",
       "      <td>NaN</td>\n",
       "      <td>NaN</td>\n",
       "      <td>NaN</td>\n",
       "      <td>no</td>\n",
       "    </tr>\n",
       "    <tr>\n",
       "      <th>131890</th>\n",
       "      <td>Ukraine International</td>\n",
       "      <td>NaN</td>\n",
       "      <td>Andriy Yesypenko</td>\n",
       "      <td>19th May 2006</td>\n",
       "      <td>Kiev - London (Gatwick) in business class (in ...</td>\n",
       "      <td>NaN</td>\n",
       "      <td>NaN</td>\n",
       "      <td>NaN</td>\n",
       "      <td>NaN</td>\n",
       "      <td>NaN</td>\n",
       "      <td>NaN</td>\n",
       "      <td>NaN</td>\n",
       "      <td>NaN</td>\n",
       "      <td>NaN</td>\n",
       "      <td>NaN</td>\n",
       "      <td>no</td>\n",
       "    </tr>\n",
       "    <tr>\n",
       "      <th>131892</th>\n",
       "      <td>Ukraine International</td>\n",
       "      <td>NaN</td>\n",
       "      <td>Volodya Bilotkach</td>\n",
       "      <td>29th April 2006</td>\n",
       "      <td>Several flights - KBP to AMS (3 times one way)...</td>\n",
       "      <td>NaN</td>\n",
       "      <td>NaN</td>\n",
       "      <td>NaN</td>\n",
       "      <td>NaN</td>\n",
       "      <td>NaN</td>\n",
       "      <td>NaN</td>\n",
       "      <td>NaN</td>\n",
       "      <td>NaN</td>\n",
       "      <td>NaN</td>\n",
       "      <td>NaN</td>\n",
       "      <td>no</td>\n",
       "    </tr>\n",
       "    <tr>\n",
       "      <th>131894</th>\n",
       "      <td>Ukraine International</td>\n",
       "      <td>NaN</td>\n",
       "      <td>Kasper Hettinga</td>\n",
       "      <td>10th February 2006</td>\n",
       "      <td>KBP-AMS with UIA. Although it was a relatively...</td>\n",
       "      <td>NaN</td>\n",
       "      <td>NaN</td>\n",
       "      <td>NaN</td>\n",
       "      <td>NaN</td>\n",
       "      <td>NaN</td>\n",
       "      <td>NaN</td>\n",
       "      <td>NaN</td>\n",
       "      <td>NaN</td>\n",
       "      <td>NaN</td>\n",
       "      <td>NaN</td>\n",
       "      <td>no</td>\n",
       "    </tr>\n",
       "  </tbody>\n",
       "</table>\n",
       "<p>65947 rows × 16 columns</p>\n",
       "</div>"
      ],
      "text/plain": [
       "                      airline  overall               author  \\\n",
       "1            Turkish Airlines      7.0  Christopher Hackley   \n",
       "3            Turkish Airlines      2.0        Adriana Pisoi   \n",
       "5            Turkish Airlines      3.0            M Galerko   \n",
       "7            Turkish Airlines     10.0          Zeshan Shah   \n",
       "9            Turkish Airlines      1.0           Pooja Jain   \n",
       "...                       ...      ...                  ...   \n",
       "131886  Ukraine International      NaN  Yevheniy Kahanovych   \n",
       "131888  Ukraine International      NaN            Helen Lee   \n",
       "131890  Ukraine International      NaN     Andriy Yesypenko   \n",
       "131892  Ukraine International      NaN    Volodya Bilotkach   \n",
       "131894  Ukraine International      NaN      Kasper Hettinga   \n",
       "\n",
       "               review_date                                    customer_review  \\\n",
       "1             8th May 2019  âœ… Trip Verified | London to Izmir via Istanb...   \n",
       "3             7th May 2019  âœ… Trip Verified | Istanbul to Bucharest. We ...   \n",
       "5             7th May 2019  âœ… Trip Verified | Rome to Prishtina via Ista...   \n",
       "7             6th May 2019  âœ… Trip Verified | Flew on Turkish Airlines I...   \n",
       "9             6th May 2019  âœ… Trip Verified | Mumbai to Dublin via Istan...   \n",
       "...                    ...                                                ...   \n",
       "131886   21st January 2007  Two domestic flights between Kiev and Lviv las...   \n",
       "131888  15th December 2006  I had a good flight from London to Kiev with U...   \n",
       "131890       19th May 2006  Kiev - London (Gatwick) in business class (in ...   \n",
       "131892     29th April 2006  Several flights - KBP to AMS (3 times one way)...   \n",
       "131894  10th February 2006  KBP-AMS with UIA. Although it was a relatively...   \n",
       "\n",
       "        traveller_type          cabin                           route  \\\n",
       "1             Business  Economy Class    London to Izmir via Istanbul   \n",
       "3       Family Leisure  Economy Class           Istanbul to Bucharest   \n",
       "5             Business  Economy Class  Rome to Prishtina via Istanbul   \n",
       "7         Solo Leisure  Economy Class    Washington Dulles to Karachi   \n",
       "9         Solo Leisure  Economy Class   Mumbai to Dublin via Istanbul   \n",
       "...                ...            ...                             ...   \n",
       "131886             NaN            NaN                             NaN   \n",
       "131888             NaN            NaN                             NaN   \n",
       "131890             NaN            NaN                             NaN   \n",
       "131892             NaN            NaN                             NaN   \n",
       "131894             NaN            NaN                             NaN   \n",
       "\n",
       "                 date_flown  seat_comfort  cabin_service  food_bev  \\\n",
       "1       2019-05-01 00:00:00           4.0            5.0       4.0   \n",
       "3       2019-05-01 00:00:00           4.0            1.0       1.0   \n",
       "5       2019-05-01 00:00:00           1.0            4.0       1.0   \n",
       "7                April 2019           4.0            5.0       5.0   \n",
       "9       2019-05-01 00:00:00           1.0            1.0       1.0   \n",
       "...                     ...           ...            ...       ...   \n",
       "131886                  NaN           NaN            NaN       NaN   \n",
       "131888                  NaN           NaN            NaN       NaN   \n",
       "131890                  NaN           NaN            NaN       NaN   \n",
       "131892                  NaN           NaN            NaN       NaN   \n",
       "131894                  NaN           NaN            NaN       NaN   \n",
       "\n",
       "        entertainment  ground_service  value_for_money recommended  \n",
       "1                 4.0             2.0              4.0         yes  \n",
       "3                 1.0             1.0              1.0          no  \n",
       "5                 3.0             1.0              2.0          no  \n",
       "7                 5.0             5.0              5.0         yes  \n",
       "9                 1.0             1.0              1.0          no  \n",
       "...               ...             ...              ...         ...  \n",
       "131886            NaN             NaN              NaN          no  \n",
       "131888            NaN             NaN              NaN          no  \n",
       "131890            NaN             NaN              NaN          no  \n",
       "131892            NaN             NaN              NaN          no  \n",
       "131894            NaN             NaN              NaN          no  \n",
       "\n",
       "[65947 rows x 16 columns]"
      ]
     },
     "metadata": {},
     "output_type": "display_data"
    }
   ],
   "source": [
    "display(df)"
   ]
  },
  {
   "cell_type": "markdown",
   "metadata": {},
   "source": [
    "This is a first read for our dataset and we have a lot of cleaning up to do. Depending on what data we need for our analysis we must deal with the remaining `NaN` values.  \n",
    "Also on the `customer_review` field we can see some unicode characters that must be dealt with."
   ]
  },
  {
   "cell_type": "markdown",
   "metadata": {},
   "source": [
    "## Most Important Rating\n",
    "\n",
    "Each review has a number of ratings:\n",
    "* Food & Beverages\n",
    "* Inflight Entertainment\n",
    "* Seat Comfort\n",
    "* Value For Money\n",
    "* Cabin Staff Service\n",
    "* Ground Service\n",
    "\n",
    "THe ratings have a value from 1 (being the worst) to 5 (being the best). I would like to find which one of the ratings is the most correlated with **if he would recommend the flight**.  \n",
    "  \n",
    "Why I consider the *recommend* value as the best reflection of passenger satisfaction?\n",
    "If a passenger recommends an airline then this means two things. Firstly, that he would promote to a friend/family the airline. Secondly, in future air traveling is probable that hew would again choose the same airline if possible. From a business perspective I believe this makes the *recommend* metric important.  \n",
    "\n",
    "### Missing Values\n",
    "\n",
    "As expected many of the reviews have missing values. The quick approach is to drop all the rows with missing values on the columns we need. We will do that and check how many rows we lose."
   ]
  },
  {
   "cell_type": "code",
   "execution_count": 21,
   "metadata": {
    "ExecuteTime": {
     "end_time": "2020-04-12T09:08:10.992796Z",
     "start_time": "2020-04-12T09:08:10.944530Z"
    }
   },
   "outputs": [
    {
     "name": "stdout",
     "output_type": "stream",
     "text": [
      "Rows including NaNs: 64440\n",
      "Rows without NaNs: 24596\n"
     ]
    }
   ],
   "source": [
    "# Select the columns we need from the df\n",
    "rate_importance_df = df.iloc[:,-7:].copy()\n",
    "\n",
    "# We drop the rows that have a NaN value on the recommended column\n",
    "rate_importance_df = rate_importance_df[rate_importance_df['recommended'].notna()]\n",
    "\n",
    "print(f\"Rows including NaNs: {len(rate_importance_df)}\")\n",
    "\n",
    "rate_importance_df = rate_importance_df.dropna()\n",
    "\n",
    "print(f\"Rows without NaNs: {len(rate_importance_df)}\")"
   ]
  },
  {
   "cell_type": "markdown",
   "metadata": {},
   "source": [
    "We lose about 40.000 rows but we still have ~25.000 rows. At least initially I feel that the remaining rows are enough and no other strategy is followed."
   ]
  },
  {
   "cell_type": "markdown",
   "metadata": {
    "ExecuteTime": {
     "end_time": "2020-04-11T10:35:41.832531Z",
     "start_time": "2020-04-11T10:35:41.823749Z"
    }
   },
   "source": [
    "### Correlation\n",
    "\n",
    "We will now calculate the correlation of each rating with if the *recommendation* value.  \n",
    "  \n",
    "Our results will not have a simple interpretation, meaning we must take into account that [**correlation does not imply causation**](https://www.tylervigen.com/spurious-correlations).  \n",
    "  \n",
    "**Hypothetical scenario:**  \n",
    "Let's say we found a great correlation (r >0.9) between recommend and inflight entertainment. One might suggest we should make our flights more entertaining, so we install TVs, music, etc. but after some months we do not have the expected increase on ratings.  \n",
    "With further analysis we discover that the duration of the flight is highly correlated with the inflight entertainment and consequently with the recommend value.  \n",
    "This means that long haul flights make the passengers more easily bored and tired and we cannot actually do much about this specific issue since [airplanes will not get much faster](https://aviation.stackexchange.com/a/31386)."
   ]
  },
  {
   "cell_type": "code",
   "execution_count": 22,
   "metadata": {
    "ExecuteTime": {
     "end_time": "2020-04-12T09:08:14.847023Z",
     "start_time": "2020-04-12T09:08:14.836404Z"
    }
   },
   "outputs": [],
   "source": [
    "# Change the yes/no values on recommend column to 1/0\n",
    "rate_importance_df.recommended = rate_importance_df.recommended.map(dict(yes=1, no=0))"
   ]
  },
  {
   "cell_type": "markdown",
   "metadata": {},
   "source": [
    "In our case we have a continuous value for the ratings and a binary value (yes/no) for the recommend value. So, we will use the [point-biserial correlation coefficient](https://en.wikipedia.org/wiki/Point-biserial_correlation_coefficient) which is a [special case of Pearson correlation](https://stats.stackexchange.com/a/105553).  \n",
    "  \n",
    "Firstly, I will plot some boxplots which will be a pretty good indication if there is any correlation, before quantifying it."
   ]
  },
  {
   "cell_type": "code",
   "execution_count": 83,
   "metadata": {
    "ExecuteTime": {
     "end_time": "2020-04-12T10:30:53.717753Z",
     "start_time": "2020-04-12T10:30:52.751214Z"
    }
   },
   "outputs": [
    {
     "data": {
      "image/png": "[encoded data removed]",
      "text/plain": [
       "<Figure size 1296x936 with 6 Axes>"
      ]
     },
     "metadata": {
      "needs_background": "light"
     },
     "output_type": "display_data"
    }
   ],
   "source": [
    "fig = plt.figure(figsize=(18, 13))\n",
    "plot_index = 1\n",
    "\n",
    "# Iterate on all the ratings\n",
    "for which_rating in rate_importance_df.columns[:-1]:\n",
    "    ax = fig.add_subplot(2, 3, plot_index)\n",
    "    yes_ratings = np.array(rate_importance_df.loc[rate_importance_df['recommended'] == 1][which_rating])\n",
    "    no_ratings = np.array(rate_importance_df.loc[rate_importance_df['recommended'] == 0][which_rating])\n",
    "\n",
    "    ax = sns.boxplot(data=[no_ratings, yes_ratings])\n",
    "    plt.xticks(range(0, 2), [\"no\", \"yes\"])\n",
    "    plt.title(which_rating)\n",
    "    plt.ylabel(\"Rating\")\n",
    "    plt.xlabel(\"Recommended\")\n",
    "    plot_index += 1\n",
    "\n",
    "plt.show()\n"
   ]
  },
  {
   "cell_type": "markdown",
   "metadata": {},
   "source": [
    "On the above plots we can see that all the ratings are correlated. A low rating on any of these, means a \"no\" on recommendation and vice versa.  \n",
    "An observation is, that when we are rating **we are biased from our overall experience**. That means if for example the ground_service is bad this might affect our whole view of the flight negatively and be biased when rating the cabin_service etc.  \n",
    "This can be shown by calculating the correlations between ratings. This shows **correlation \"chains\"** which do not allow us to be able to distinguish which one is the most important rating."
   ]
  },
  {
   "cell_type": "code",
   "execution_count": 82,
   "metadata": {
    "ExecuteTime": {
     "end_time": "2020-04-12T10:24:46.426624Z",
     "start_time": "2020-04-12T10:24:46.398344Z"
    }
   },
   "outputs": [
    {
     "name": "stdout",
     "output_type": "stream",
     "text": [
      "seat_comfort,\tr = 0.727 with p-value=0.0\n",
      "cabin_service,\tr = 0.745 with p-value=0.0\n",
      "food_bev,\tr = 0.738 with p-value=0.0\n",
      "entertainment,\tr = 0.652 with p-value=0.0\n",
      "ground_service,\tr = 0.751 with p-value=0.0\n",
      "value_for_money,\tr = 0.838 with p-value=0.0\n"
     ]
    }
   ],
   "source": [
    "# Let's calculate the correlation\n",
    "for which_rating in rate_importance_df.columns[:-1]:\n",
    "    r, p = stats.pointbiserialr(rate_importance_df.recommended, rate_importance_df[which_rating])\n",
    "    print(f\"{which_rating},\\tr = {np.round(r, decimals=3)} with p-value={p}\")"
   ]
  },
  {
   "cell_type": "markdown",
   "metadata": {},
   "source": [
    "As we can see most of them have the same levels of r-coefficients with entertainment being a bit lower and value for money a bit higher (which is expected since value for money can be considered as a summarizing rating of all the other ratings).  \n",
    "  \n",
    "**So by simply looking at the ratings I believe we cannot have a decisive answer on what the airlines should improve.**"
   ]
  },
  {
   "cell_type": "markdown",
   "metadata": {},
   "source": [
    "## Review Text Processing\n",
    "\n",
    "Since the above analysis does not have a clear results we will now try to have insights from the text of the reviews. This sounds more helpful, because although the ratings are biased from the overall experience the text should be focused on more specific events."
   ]
  }
 ],
 "metadata": {
  "kernelspec": {
   "display_name": "Python 3.6.9 64-bit ('thesisEnv': virtualenv)",
   "language": "python",
   "name": "python36964bitthesisenvvirtualenv849bc23effdd4f5cbcfcfcad50606969"
  },
  "language_info": {
   "codemirror_mode": {
    "name": "ipython",
    "version": 3
   },
   "file_extension": ".py",
   "mimetype": "text/x-python",
   "name": "python",
   "nbconvert_exporter": "python",
   "pygments_lexer": "ipython3",
   "version": "3.6.9"
  },
  "toc": {
   "base_numbering": 1,
   "nav_menu": {},
   "number_sections": true,
   "sideBar": true,
   "skip_h1_title": true,
   "title_cell": "Table of Contents",
   "title_sidebar": "Contents",
   "toc_cell": false,
   "toc_position": {},
   "toc_section_display": true,
   "toc_window_display": true
  },
  "varInspector": {
   "cols": {
    "lenName": 16,
    "lenType": 16,
    "lenVar": 40
   },
   "kernels_config": {
    "python": {
     "delete_cmd_postfix": "",
     "delete_cmd_prefix": "del ",
     "library": "var_list.py",
     "varRefreshCmd": "print(var_dic_list())"
    },
    "r": {
     "delete_cmd_postfix": ") ",
     "delete_cmd_prefix": "rm(",
     "library": "var_list.r",
     "varRefreshCmd": "cat(var_dic_list()) "
    }
   },
   "types_to_exclude": [
    "module",
    "function",
    "builtin_function_or_method",
    "instance",
    "_Feature"
   ],
   "window_display": false
  }
 },
 "nbformat": 4,
 "nbformat_minor": 4
}
